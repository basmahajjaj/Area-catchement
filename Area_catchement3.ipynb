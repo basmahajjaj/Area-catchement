{
  "cells": [
    {
      "cell_type": "markdown",
      "metadata": {
        "id": "view-in-github",
        "colab_type": "text"
      },
      "source": [
        "<a href=\"https://colab.research.google.com/github/basmahajjaj/Area-catchement/blob/main/Area_catchement3.ipynb\" target=\"_parent\"><img src=\"https://colab.research.google.com/assets/colab-badge.svg\" alt=\"Open In Colab\"/></a>"
      ]
    },
    {
      "cell_type": "code",
      "source": [
        ""
      ],
      "metadata": {
        "id": "MozifV-63mWa"
      },
      "execution_count": null,
      "outputs": []
    },
    {
      "cell_type": "code",
      "execution_count": null,
      "metadata": {
        "id": "mEO89V_SRc7d"
      },
      "outputs": [],
      "source": [
        "from re import IGNORECASE\n",
        "# Code to read file into colaboratory:\n",
        "!pip install -U -q PyDrive\n",
        "from pydrive.auth import GoogleAuth\n",
        "from pydrive.drive import GoogleDrive\n",
        "from google.colab import auth\n",
        "from oauth2client.client import GoogleCredentials\n",
        "\n",
        "#Autheticate E-Mail ID\n",
        "auth.authenticate_user()\n",
        "gauth = GoogleAuth()\n",
        "gauth.credentials = GoogleCredentials.get_application_default()\n",
        "drive = GoogleDrive(gauth)\n",
        "\n",
        "#2. Get the file\n",
        "downloaded = drive.CreateFile({\"id\":\"1MUdsqpwuYg7Y0HoDx-NkHCCSv6DsT1QJ\"})\n",
        "downloaded.GetContentFile(\"bosysheet1.xlsx\")\n",
        "\n",
        "import pandas as pd\n",
        "df2 =pd.read_excel('bosysheet1.xlsx', sheet_name=None) \n",
        "df2= pd.concat(df2[frame] for frame in df2.keys())\n"
      ]
    },
    {
      "cell_type": "code",
      "execution_count": null,
      "metadata": {
        "id": "taqba42iQpUg"
      },
      "outputs": [],
      "source": [
        "!pip install dash\n",
        "import dash\n",
        "import plotly.express as px\n",
        "import pandas as pd\n",
        "\n",
        "counts=df2['GovID'].value_counts()\n",
        "bigGov = df2[df2['GovID'].isin(counts[counts > 20000].index)]  #~mean not\n",
        "bigGov=df2[df2['GovID'].isin(['cairo','Giza','Faiyum ','al-Sharqiyya',' El Qalyubiyya'])]\n",
        "Govlessthan20=df2[df2['GovID'].isin(['باقي المحافظات'])]\n",
        "\n",
        "result = pd.concat([bigGov,Govlessthan20])\n",
        "result['GovID'].value_counts()\n",
        "\n",
        "fig_hist=px.histogram(data_frame=result,x='GovID')\n",
        "fig_hist.show()\n",
        "\n",
        "fig_pie = px.pie(data_frame=result, names='GovID')\n",
        "\n",
        "fig_pie.show()"
      ]
    },
    {
      "cell_type": "code",
      "execution_count": null,
      "metadata": {
        "id": "vqSt2d5IW-Yv"
      },
      "outputs": [],
      "source": [
        "\n",
        "#--df2['GovID'].replace(['cairo'],['القاهره'],inplace=True)\n",
        "df2['GovID'].replace(['2'],['cairo'],inplace=True)\n",
        "df2['GovID'].replace(['1'],['الجيزة'],inplace=True)\n",
        "df2['GovID'].replace(['الجيزة'],['Giza'],inplace=True)\n",
        "\n",
        "df2['GovID'].replace(['16'],['الشرقية'],inplace=True)\n",
        "df2['GovID'].replace(['الشرقية'],['al-Sharqiyya'],inplace=True)\n",
        "\n",
        "df2['GovID'].replace(['6'],['الفيوم'],inplace=True)\n",
        "df2['GovID'].replace(['الفيوم'],['Faiyum '],inplace=True)\n",
        "\n",
        "df2['GovID'].replace(['5'],['القليوبيه'],inplace=True)\n",
        "df2['GovID'].replace(['القليوبيه'],[' El Qalyubiyya'],inplace=True)\n",
        "\n",
        "df2['GovID'].replace(['3'],['باقي المحافظات'],inplace=True)\n",
        "df2['GovID'].replace(['7'],['باقي المحافظات'],inplace=True)\n",
        "df2['GovID'].replace(['8'],['باقي المحافظات'],inplace=True)\n",
        "df2['GovID'].replace(['9'],['باقي المحافظات'],inplace=True)\n",
        "df2['GovID'].replace(['10'],['باقي المحافظات'],inplace=True)\n",
        "df2['GovID'].replace(['11'],['باقي المحافظات'],inplace=True)\n",
        "df2['GovID'].replace(['12'],['باقي المحافظات'],inplace=True)\n",
        "df2['GovID'].replace(['13'],['باقي المحافظات'],inplace=True)\n",
        "df2['GovID'].replace(['14'],['باقي المحافظات'],inplace=True)\n",
        "df2['GovID'].replace(['15'],['باقي المحافظات'],inplace=True)\n",
        "df2['GovID'].replace(['17'],['باقي المحافظات'],inplace=True)\n",
        "df2['GovID'].replace(['18'],['باقي المحافظات'],inplace=True)\n",
        "\n",
        "df2['GovID'].replace(['19'],['باقي المحافظات'],inplace=True)\n",
        "df2['GovID'].replace(['20'],['باقي المحافظات'],inplace=True)\n",
        "df2['GovID'].replace(['21'],['باقي المحافظات'],inplace=True)\n",
        "df2['GovID'].replace(['22'],['باقي المحافظات'],inplace=True)\n",
        "df2['GovID'].replace(['23'],['باقي المحافظات'],inplace=True)\n",
        "df2['GovID'].replace(['24'],['باقي المحافظات'],inplace=True)\n",
        "df2['GovID'].replace(['25'],['باقي المحافظات'],inplace=True)\n",
        "df2['GovID'].replace(['26'],['باقي المحافظات'],inplace=True)\n",
        "df2['GovID'].replace(['27'],['باقي المحافظات'],inplace=True)\n",
        "df2['GovID'].replace(['28'],['باقي المحافظات'],inplace=True)\n",
        "df2['GovID'].replace(['29'],['باقي المحافظات'],inplace=True)\n",
        "df2['GovID'].replace(['30'],['باقي المحافظات'],inplace=True)\n",
        "\n",
        "df2['GovID'].replace(['32'],['باقي المحافظات'],inplace=True)\n",
        "df2['GovID'].replace(['33'],['باقي المحافظات'],inplace=True)\n",
        "df2['GovID'].replace(['34'],['باقي المحافظات'],inplace=True)\n",
        "df2['GovID'].replace(['35'],['باقي المحافظات'],inplace=True)\n",
        "df2['GovID'].replace(['38'],['باقي المحافظات'],inplace=True)\n"
      ]
    },
    {
      "cell_type": "code",
      "source": [
        "# from changing the label of data\n",
        "df2['GovID'].value_counts()\n",
        "#df6.query('GovID==\"باقي المحافظات\"')\n",
        "df2['GovID'].value_counts()\n",
        "\n",
        "#--counting the data \n",
        "--Govlessthan20 = df2[~df2[u'GovID'].isin(counts[counts > 20000].index)]  #~mean not#\n",
        "#--bigGov = df2[df2[u'GovID'].isin(counts[counts > 20000].index)&df2['GovID']!='باقي المحافظات']  #~mean not\n",
        "#--Govlessthan20 = df2[df2[u'GovID'].isin(counts[counts > 20000 ].index)&df2['GovID']=='باقي المحافظات']  #~mean not#\n",
        "\n",
        "#df6['GovID'].replace(['2'],['باقي المحافظات'],inplace=True)\n"
      ],
      "metadata": {
        "id": "UQbni_Bj4TSS"
      },
      "execution_count": null,
      "outputs": []
    },
    {
      "cell_type": "code",
      "source": [
        ""
      ],
      "metadata": {
        "id": "E3FysofL4i0A"
      },
      "execution_count": null,
      "outputs": []
    }
  ],
  "metadata": {
    "accelerator": "GPU",
    "colab": {
      "collapsed_sections": [],
      "name": "Area catchement3.ipynb",
      "provenance": [],
      "authorship_tag": "ABX9TyNLw32kLBkBcdhdwAmgY/Nh",
      "include_colab_link": true
    },
    "kernelspec": {
      "display_name": "Python 3",
      "name": "python3"
    },
    "language_info": {
      "name": "python"
    }
  },
  "nbformat": 4,
  "nbformat_minor": 0
}